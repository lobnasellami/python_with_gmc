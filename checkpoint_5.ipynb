{
 "cells": [
  {
   "cell_type": "code",
   "execution_count": 2,
   "metadata": {},
   "outputs": [
    {
     "name": "stdout",
     "output_type": "stream",
     "text": [
      "[0, 1, 2, 3, 4, 5, 6, 7, 8]\n"
     ]
    }
   ],
   "source": [
    "import numpy as np\n",
    "a = np.array([[0,1,2],[3,4,5],[6,7,8]])\n",
    "j=0;\n",
    "x=[]\n",
    "for i in a:\n",
    "    for j in i:  \n",
    "        x.append(j)\n",
    "print(x)"
   ]
  },
  {
   "cell_type": "code",
   "execution_count": 21,
   "metadata": {},
   "outputs": [
    {
     "name": "stdout",
     "output_type": "stream",
     "text": [
      "12\n"
     ]
    }
   ],
   "source": [
    "a = np.array([[0,1,2],[3,4,5],[6,7,8]])\n",
    "numOfRows = a.shape[0]\n",
    "sum=0\n",
    "for i in range (numOfRows):\n",
    "    sum=sum+a[i,i]\n",
    "print(sum)"
   ]
  },
  {
   "cell_type": "code",
   "execution_count": 29,
   "metadata": {},
   "outputs": [
    {
     "name": "stdout",
     "output_type": "stream",
     "text": [
      "5\n",
      "[6, 7, 8]\n"
     ]
    }
   ],
   "source": [
    "y=int (input())\n",
    "a = np.array([[0,1,2],[3,4,5],[6,7,8]])\n",
    "x=[]\n",
    "for i in a:\n",
    "    for j in i: \n",
    "        if j>y:\n",
    "            x.append(j)\n",
    "print (x)"
   ]
  },
  {
   "cell_type": "code",
   "execution_count": 3,
   "metadata": {},
   "outputs": [
    {
     "name": "stdout",
     "output_type": "stream",
     "text": [
      "[[ 0  2  4]\n",
      " [ 6  8 10]\n",
      " [12 14 16]]\n"
     ]
    }
   ],
   "source": [
    "a = np.array([[0,1,2],[3,4,5],[6,7,8]])\n",
    "b = np.array([[0,1,2],[3,4,5],[6,7,8]])\n",
    "numOfRows = a.shape[0]\n",
    "numOfCol=a.shape[1]\n",
    "c= np.random.randint(0,10,(numOfRows,numOfCol))\n",
    "for i in range(numOfRows):\n",
    "    for j in range(numOfCol):\n",
    "        c[i,j]=a[i,j]+b[i,j]\n",
    "print(c)"
   ]
  },
  {
   "cell_type": "code",
   "execution_count": 45,
   "metadata": {},
   "outputs": [
    {
     "name": "stdout",
     "output_type": "stream",
     "text": [
      "[[-1  0  1]\n",
      " [-1  0  1]\n",
      " [-1  0  1]]\n"
     ]
    }
   ],
   "source": [
    "def sous_1D(a):\n",
    "    sum=0\n",
    "    num=a.shape[0]\n",
    "    i=0;\n",
    "    for i in range(0,num):\n",
    "        sum=sum+a[i]\n",
    "    return (sum/num)\n",
    "a = np.array([[0,1,2],[3,4,5],[6,7,8]])\n",
    "numOfRows = a.shape[0]\n",
    "numOfCol=a.shape[1]\n",
    "for i in range(numOfRows):\n",
    "    x=sous_1D(a[i])\n",
    "    for j in range (numOfCol) :   \n",
    "        a[i,j]=a[i,j]-x\n",
    "        \n",
    "print(a)"
   ]
  },
  {
   "cell_type": "code",
   "execution_count": null,
   "metadata": {},
   "outputs": [],
   "source": []
  },
  {
   "cell_type": "code",
   "execution_count": null,
   "metadata": {},
   "outputs": [],
   "source": []
  }
 ],
 "metadata": {
  "kernelspec": {
   "display_name": "Python 3",
   "language": "python",
   "name": "python3"
  },
  "language_info": {
   "codemirror_mode": {
    "name": "ipython",
    "version": 3
   },
   "file_extension": ".py",
   "mimetype": "text/x-python",
   "name": "python",
   "nbconvert_exporter": "python",
   "pygments_lexer": "ipython3",
   "version": "3.7.6"
  }
 },
 "nbformat": 4,
 "nbformat_minor": 4
}
