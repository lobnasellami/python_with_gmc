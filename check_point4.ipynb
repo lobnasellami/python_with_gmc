{
 "cells": [
  {
   "cell_type": "code",
   "execution_count": 9,
   "metadata": {},
   "outputs": [
    {
     "name": "stdout",
     "output_type": "stream",
     "text": [
      "2\n"
     ]
    }
   ],
   "source": [
    "def maximum( a, b, c ):\n",
    "    maxi=a\n",
    "    if a>b :\n",
    "        maxi=a\n",
    "    elif b>a:\n",
    "        maxi=b;\n",
    "    if c>maxi:\n",
    "        return c\n",
    "    else:\n",
    "        return maxi\n",
    "\n",
    "print(maximum(1,2,-3))\n",
    "    "
   ]
  },
  {
   "cell_type": "code",
   "execution_count": 31,
   "metadata": {},
   "outputs": [
    {
     "name": "stdout",
     "output_type": "stream",
     "text": [
      "15\n",
      "120\n",
      "6\n",
      "15\n"
     ]
    }
   ],
   "source": [
    "def som(Liste):\n",
    "    som=0\n",
    "    for i in Liste:\n",
    "        som=som+i\n",
    "    return som\n",
    "def prod(Liste):\n",
    "    prod=1\n",
    "    for i in Liste:\n",
    "        prod=prod*i\n",
    "    return prod\n",
    "Liste=[1,2,3,4,5]\n",
    "l1=[]\n",
    "l2=[]\n",
    "j=0\n",
    "i=0;\n",
    "odd = [] \n",
    "even= [] \n",
    "for i in range(0, len(Liste)): \n",
    "    if i % 2: \n",
    "        even.append(Liste[i]) \n",
    "    else : \n",
    "        odd.append(Liste[i]) \n",
    "print(som(even))\n",
    "print(prod(odd))\n",
    "  \n"
   ]
  },
  {
   "cell_type": "code",
   "execution_count": 40,
   "metadata": {},
   "outputs": [
    {
     "name": "stdout",
     "output_type": "stream",
     "text": [
      "black-green-red-white-yellow\n"
     ]
    }
   ],
   "source": [
    "txt=\"green-red-yellow-black-white\"\n",
    "List = txt.split(\"-\")\n",
    "#print(List)\n",
    "test= True\n",
    "i = 0\n",
    "while test == True:\n",
    "    test = False\n",
    "    i = i + 1\n",
    "    for x in range(0, len(List) - i):\n",
    "         if (List[x] > List[x+1]):\n",
    "             test = True\n",
    "             aux=List[x]\n",
    "             List[x]= List[x + 1] \n",
    "             List[x+1]=aux\n",
    "txt= \"-\".join(List)\n",
    "#print(List)\n",
    "print(txt)\n"
   ]
  },
  {
   "cell_type": "code",
   "execution_count": null,
   "metadata": {},
   "outputs": [],
   "source": []
  }
 ],
 "metadata": {
  "kernelspec": {
   "display_name": "Python 3",
   "language": "python",
   "name": "python3"
  },
  "language_info": {
   "codemirror_mode": {
    "name": "ipython",
    "version": 3
   },
   "file_extension": ".py",
   "mimetype": "text/x-python",
   "name": "python",
   "nbconvert_exporter": "python",
   "pygments_lexer": "ipython3",
   "version": "3.7.6"
  }
 },
 "nbformat": 4,
 "nbformat_minor": 4
}
