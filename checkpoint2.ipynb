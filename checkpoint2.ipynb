{
 "cells": [
  {
   "cell_type": "code",
   "execution_count": null,
   "metadata": {},
   "outputs": [],
   "source": [
    "str1= input('write your first name')\n",
    "str2= input('write your second name')\n",
    "print (str2+' '+str1)"
   ]
  },
  {
   "cell_type": "code",
   "execution_count": null,
   "metadata": {},
   "outputs": [],
   "source": [
    " n= int(input('write a number'))\n",
    "print (n+n*11+n*111)"
   ]
  },
  {
   "cell_type": "code",
   "execution_count": null,
   "metadata": {},
   "outputs": [],
   "source": [
    "n= int(input('write a number'))\n",
    "\n",
    "if n%2==0:\n",
    "    print(\"the number is even\")\n",
    "else:\n",
    "    print(\"the number is odd\")"
   ]
  },
  {
   "cell_type": "code",
   "execution_count": null,
   "metadata": {},
   "outputs": [],
   "source": [
    "n=int(input(\"enter the year\"))\n",
    "if n%4==0 and (n%100!=0):\n",
    "    print(\"it's a leap year\")\n",
    "else :\n",
    "    print(\"it's not a leap year\")"
   ]
  },
  {
   "cell_type": "code",
   "execution_count": 1,
   "metadata": {},
   "outputs": [
    {
     "name": "stdout",
     "output_type": "stream",
     "text": [
      "donner une phrasehello team\n",
      "hlota\n"
     ]
    }
   ],
   "source": [
    "i=0\n",
    "s=str(input('donner une phrase'))\n",
    "s1=\"\"\n",
    "\n",
    "while (i<len(s)):\n",
    "    if (i%2==0):\n",
    "        s1=s1+s[i]\n",
    "    i=i+1\n",
    "print(s1)"
   ]
  },
  {
   "cell_type": "code",
   "execution_count": 4,
   "metadata": {},
   "outputs": [
    {
     "name": "stdout",
     "output_type": "stream",
     "text": [
      "write the price5000\n",
      "2500.0\n"
     ]
    }
   ],
   "source": [
    "n=int(input(\"write the price\"))\n",
    "if n>=500:\n",
    "    print(n/2)\n",
    "elif n>=200 and n<500 :\n",
    "    print (n*70/100)\n",
    "else :\n",
    "    print (n*9/10)\n",
    "            "
   ]
  },
  {
   "cell_type": "code",
   "execution_count": null,
   "metadata": {},
   "outputs": [],
   "source": []
  }
 ],
 "metadata": {
  "kernelspec": {
   "display_name": "Python 3",
   "language": "python",
   "name": "python3"
  },
  "language_info": {
   "codemirror_mode": {
    "name": "ipython",
    "version": 3
   },
   "file_extension": ".py",
   "mimetype": "text/x-python",
   "name": "python",
   "nbconvert_exporter": "python",
   "pygments_lexer": "ipython3",
   "version": "3.7.6"
  }
 },
 "nbformat": 4,
 "nbformat_minor": 4
}
