{
 "cells": [
  {
   "cell_type": "code",
   "execution_count": 1,
   "metadata": {},
   "outputs": [
    {
     "name": "stdout",
     "output_type": "stream",
     "text": [
      "6\n"
     ]
    }
   ],
   "source": [
    "My_list=[1,2,3]\n",
    "p=1;\n",
    "for x in My_list:\n",
    "    p=p*x\n",
    "print(p)"
   ]
  },
  {
   "cell_type": "code",
   "execution_count": 22,
   "metadata": {},
   "outputs": [
    {
     "name": "stdout",
     "output_type": "stream",
     "text": [
      "(2, 1)\n",
      "(1, 2)\n",
      "(2, 3)\n",
      "(4, 4)\n",
      "(2, 5)\n"
     ]
    }
   ],
   "source": [
    "List=[(2,5),(1,2),(4,4),(2,3),(2,1)]\n",
    "test= True\n",
    "i = 0\n",
    "while test == True:\n",
    "    test = False\n",
    "    i = i + 1\n",
    "    for x in range(0, len(List) - i):\n",
    "         if (List[x][1] > List[x+1][1]):\n",
    "             test = True\n",
    "             aux=List[x]\n",
    "             List[x]= List[x + 1] \n",
    "             List[x+1]=aux\n",
    "\n",
    "for y in List:\n",
    "    print(y)"
   ]
  },
  {
   "cell_type": "code",
   "execution_count": 49,
   "metadata": {},
   "outputs": [
    {
     "name": "stdout",
     "output_type": "stream",
     "text": [
      "{'a': 400, 'b': 400, 'c': 300, 'd': 400}\n"
     ]
    }
   ],
   "source": [
    "d1 = {'a': 100, 'b': 200, 'c':300}\n",
    "d2 = {'a': 300, 'b': 200, 'd':400}\n",
    "d3 = {}\n",
    "for i,j in d1.items():\n",
    "    for k,l in d2.items():\n",
    "        if i == k:\n",
    "            d3[i]=(j+l)\n",
    "            break\n",
    "\n",
    "for i,j in d1.items():\n",
    "    for k,l in d2.items():\n",
    "        if i==k:\n",
    "            test=1\n",
    "            break\n",
    "        else: \n",
    "            test=0\n",
    "    if test==0:\n",
    "        d3[i]=j\n",
    "for i,j in d2.items():\n",
    "    for k,l in d1.items():\n",
    "        if i==k:\n",
    "            test=1\n",
    "            break\n",
    "        else: \n",
    "            test=0\n",
    "    if test==0:\n",
    "        d3[i]=j\n",
    "\n",
    "\n",
    "print(d3)\n"
   ]
  },
  {
   "cell_type": "code",
   "execution_count": null,
   "metadata": {},
   "outputs": [],
   "source": []
  }
 ],
 "metadata": {
  "kernelspec": {
   "display_name": "Python 3",
   "language": "python",
   "name": "python3"
  },
  "language_info": {
   "codemirror_mode": {
    "name": "ipython",
    "version": 3
   },
   "file_extension": ".py",
   "mimetype": "text/x-python",
   "name": "python",
   "nbconvert_exporter": "python",
   "pygments_lexer": "ipython3",
   "version": "3.7.6"
  }
 },
 "nbformat": 4,
 "nbformat_minor": 4
}
